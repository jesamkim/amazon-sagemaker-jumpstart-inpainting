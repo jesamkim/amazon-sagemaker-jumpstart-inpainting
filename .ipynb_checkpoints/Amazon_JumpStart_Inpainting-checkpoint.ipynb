{
 "cells": [
  {
   "cell_type": "markdown",
   "id": "16c61f54",
   "metadata": {},
   "source": [
    "# Amazon SageMaker JumpStart Image editing - Stable Diffusion Inpainting"
   ]
  },
  {
   "cell_type": "markdown",
   "id": "bdc23bae",
   "metadata": {},
   "source": [
    "---\n",
    "Amazon [SageMaker JumpStart](https://docs.aws.amazon.com/sagemaker/latest/dg/studio-jumpstart.html)에 오신 것을 환영합니다! Sagemaker JumpStart이용하면 SageMaker Studio에서 원클릭으로, 또는[SageMaker Python SDK](https://sagemaker.readthedocs.io/en/stable/overview.html#use-prebuilt-models-with-sagemaker-jumpstart)를 통해 다양한 머신러닝 작업을 해결할 수 있습니다..\n",
    "\n",
    "이 데모 노트북에서는 세이지메이커 파이썬 SDK를 사용하여 사전 학습된 최신 안정 확산 모델로 이미지를 인페인팅하는 방법을 보여드립니다. 인페인팅은 이미지의 일부를 텍스트 프롬프트에 설명된 다른 이미지로 대체하는 작업입니다.  원본 이미지, 마스크 이미지(대체할 부분을 설명하는 이미지), 텍스트 프롬프트가 주어지면 안정적 확산 모델은 텍스트 프롬프트에 설명된 물체/피사체/환경으로 마스크된 부분을 대체하는 새로운 이미지를 생성합니다. \n",
    "\n",
    "---"
   ]
  },
  {
   "cell_type": "markdown",
   "id": "5db28351",
   "metadata": {},
   "source": [
    "1. [Set Up](#1.-Set-Up)\n",
    "2. [Select a model](#2.-Select-a-model)\n",
    "3. [Retrieve JumpStart Artifacts & Deploy an Endpoint](#3.-Retrieve-JumpStart-Artifacts-&-Deploy-an-Endpoint)\n",
    "4. [Query endpoint and parse response](#4.-Query-endpoint-and-parse-response)\n",
    "5. [Clean up the endpoint](#5.-Clean-up-the-endpoint)"
   ]
  },
  {
   "cell_type": "markdown",
   "id": "ce462973",
   "metadata": {},
   "source": [
    "참고: 이 노트북은 Python 3 (Data Science 2.0) 커널이 포함된 Amazon SageMaker Studio의 ml.t3.medium 인스턴스와 conda_python3 커널이 포함된 Amazon SageMaker Notebook 인스턴스에서 테스트되었습니다.\n",
    "\n",
    "참고: 노트북 실행을 완료한 후에는 모든 리소스를 삭제하여 프로세스에서 생성한 모든 리소스가 삭제되고 청구가 중지되도록 하세요. [Clean up the endpoint](#5.-Clean-up-the-endpoint)의 코드는 생성된 모델과 엔드포인트를 삭제합니다."
   ]
  },
  {
   "cell_type": "markdown",
   "id": "9ea47727",
   "metadata": {},
   "source": [
    "### 1. Set Up"
   ]
  },
  {
   "cell_type": "markdown",
   "id": "35b91e81",
   "metadata": {},
   "source": [
    "---\n",
    "노트북을 실행하기 전에 설정에 필요한 몇 가지 초기 단계가 있습니다. 이 노트북을 사용하려면 ipywidgets와 최신 버전의 sagemaker가 필요합니다.\n",
    "\n",
    "---"
   ]
  },
  {
   "cell_type": "code",
   "execution_count": null,
   "id": "25293522",
   "metadata": {
    "tags": []
   },
   "outputs": [],
   "source": [
    "!pip install ipywidgets==7.0.0 --quiet\n",
    "!pip install --upgrade sagemaker"
   ]
  },
  {
   "cell_type": "markdown",
   "id": "48370155",
   "metadata": {},
   "source": [
    "#### 권한 및 환경 변수\n",
    "\n",
    "---\n",
    "Amazon SageMaker에서 호스팅하려면 AWS 서비스 사용을 설정하고 인증해야 합니다. 여기서는 현재 노트북과 연결된 실행 역할을 SageMaker 액세스 권한이 있는 AWS 계정 역할로 사용합니다. \n",
    "\n",
    "---"
   ]
  },
  {
   "cell_type": "code",
   "execution_count": null,
   "id": "90518e45",
   "metadata": {
    "tags": []
   },
   "outputs": [],
   "source": [
    "import sagemaker, boto3, json\n",
    "from sagemaker import get_execution_role\n",
    "\n",
    "aws_role = get_execution_role()\n",
    "aws_region = boto3.Session().region_name\n",
    "sess = sagemaker.Session()"
   ]
  },
  {
   "cell_type": "markdown",
   "id": "2b5bfaa1",
   "metadata": {},
   "source": [
    "### 2. Select a model\n",
    "\n",
    "***\n",
    "본 모델을 계속 사용하거나 다음 셀을 실행할 때 생성되는 드롭다운에서 다른 모델을 선택할 수 있습니다. SageMaker 사전 학습 모델의 전체 목록은 [Sagemaker pre-trained Models](https://sagemaker.readthedocs.io/en/stable/doc_utils/pretrainedmodels.html#)에서도 확인할 수 있습니다.\n",
    "***"
   ]
  },
  {
   "cell_type": "code",
   "execution_count": null,
   "id": "94a71969",
   "metadata": {
    "jumpStartAlterations": [
     "modelIdVersion"
    ],
    "tags": []
   },
   "outputs": [],
   "source": [
    "model_id, model_version = \"model-inpainting-stabilityai-stable-diffusion-2-inpainting-fp16\", \"*\""
   ]
  },
  {
   "cell_type": "markdown",
   "id": "37d1f5f4",
   "metadata": {},
   "source": [
    "***\n",
    "[Optional] 여기서는 모든 인페인팅 모델을 필터링하고 추론할 모델을 선택합니다.\n",
    "***"
   ]
  },
  {
   "cell_type": "code",
   "execution_count": null,
   "id": "deecb929",
   "metadata": {
    "tags": []
   },
   "outputs": [],
   "source": [
    "from ipywidgets import Dropdown\n",
    "from sagemaker.jumpstart.notebook_utils import list_jumpstart_models\n",
    "\n",
    "# 모든 텍스트-이미지 생성 모델을 검색합니다.\n",
    "filter_value = \"task == inpainting\"\n",
    "inpainting_models = list_jumpstart_models(filter=filter_value)\n",
    "\n",
    "# 드롭다운에 모델 ID를 표시하여 추론할 모델을 선택할 수 있습니다.\n",
    "model_dropdown = Dropdown(\n",
    "    options=inpainting_models,\n",
    "    value=model_id,\n",
    "    description=\"Select a model\",\n",
    "    style={\"description_width\": \"initial\"},\n",
    "    layout={\"width\": \"max-content\"},\n",
    ")"
   ]
  },
  {
   "cell_type": "markdown",
   "id": "b71255f0",
   "metadata": {},
   "source": [
    "#### Chose a model for Inference"
   ]
  },
  {
   "cell_type": "code",
   "execution_count": null,
   "id": "7b423969",
   "metadata": {
    "collapsed": false,
    "jupyter": {
     "outputs_hidden": false
    },
    "tags": []
   },
   "outputs": [],
   "source": [
    "display(model_dropdown)"
   ]
  },
  {
   "cell_type": "code",
   "execution_count": null,
   "id": "0927746c",
   "metadata": {
    "collapsed": false,
    "jupyter": {
     "outputs_hidden": false
    },
    "tags": []
   },
   "outputs": [],
   "source": [
    "# model_version=\"*\" 모델의 최신 버전을 가져옵니다.\n",
    "model_id, model_version = model_dropdown.value, \"*\""
   ]
  },
  {
   "cell_type": "markdown",
   "id": "8f3ab601",
   "metadata": {},
   "source": [
    "### 3. Retrieve Artifacts & Deploy an Endpoint\n",
    "\n",
    "***\n",
    "\n",
    "SageMaker를 사용하면 새로운 데이터 세트에서 먼저 미세 조정하지 않고도 사전 학습된 모델에 대해 추론을 수행할 수 있습니다. 먼저 사전 학습된 모델에 대한 `deploy_image_uri`와 `model_uri`를 검색합니다. 사전 학습된 모델을 호스팅하기 위해, [`sagemaker.model.Model`](https://sagemaker.readthedocs.io/en/stable/api/inference/model.html)의 인스턴스를 생성하고 배포합니다. 기본 `model_id`의 경우 최대 10분 정도 소요될 수 있습니다.\n",
    "\n",
    "***"
   ]
  },
  {
   "cell_type": "code",
   "execution_count": null,
   "id": "a8a79ec9",
   "metadata": {
    "tags": []
   },
   "outputs": [],
   "source": [
    "from sagemaker import image_uris, model_uris, script_uris, hyperparameters\n",
    "from sagemaker.model import Model\n",
    "from sagemaker.predictor import Predictor\n",
    "from sagemaker.utils import name_from_base\n",
    "\n",
    "\n",
    "endpoint_name = name_from_base(f\"jumpstart-example-{model_id}\")\n",
    "\n",
    "# GPU 메모리가 더 많은 인스턴스는 더 큰 이미지 생성을 지원합니다.\n",
    "# 따라서 매우 큰 이미지를 생성하려면 ml.g5.2xlarge와 같은 인스턴스 유형을 선택하세요.\n",
    "inference_instance_type = \"ml.p3.2xlarge\"\n",
    "\n",
    "# 추론 도커 컨테이너 uri를 검색합니다. 위의 기본 모델에 대한 기본 HuggingFace 컨테이너 이미지입니다.\n",
    "deploy_image_uri = image_uris.retrieve(\n",
    "    region=None,\n",
    "    framework=None,  # model_id에서 자동 추론\n",
    "    image_scope=\"inference\",\n",
    "    model_id=model_id,\n",
    "    model_version=model_version,\n",
    "    instance_type=inference_instance_type,\n",
    ")\n",
    "\n",
    "# 모델 URI를 검색합니다. 여기에는 사전 학습된 모델과 매개변수, 추론 스크립트가 포함됩니다.\n",
    "# 여기에는 모델 로드, 추론 처리 등을 위한 모든 종속성 및 스크립트가 포함됩니다.\n",
    "model_uri = model_uris.retrieve(\n",
    "    model_id=model_id, model_version=model_version, model_scope=\"inference\"\n",
    ")\n",
    "\n",
    "# SageMaker 모델 인스턴스 생성\n",
    "model = Model(\n",
    "    image_uri=deploy_image_uri,\n",
    "    model_data=model_uri,\n",
    "    role=aws_role,\n",
    "    predictor_cls=Predictor,\n",
    "    name=endpoint_name,\n",
    ")\n",
    "\n",
    "# 모델을 배포합니다. 모델 클래스를 통해 모델을 배포할 때 Predictor 클래스를 전달해야 SageMaker API를 통해 추론을 실행할 수 있다는 점에 유의하세요.\n",
    "model_predictor = model.deploy(\n",
    "    initial_instance_count=1,\n",
    "    instance_type=inference_instance_type,\n",
    "    predictor_cls=Predictor,\n",
    "    endpoint_name=endpoint_name,\n",
    ")"
   ]
  },
  {
   "cell_type": "markdown",
   "id": "665dfbe4-2857-484e-8179-3ad11307822c",
   "metadata": {},
   "source": [
    "### 4. Query endpoint and parse response\n",
    "\n",
    "---\n",
    "엔드포인트에 대한 입력은 이미지, 마스크, 프롬프트, 이미지 생성 매개변수이며 `utf-8` 형식으로 인코딩된 json 형식입니다. 엔드포인트의 출력은 생성된 이미지가 포함된 `json` 딕셔너리입니다.\n",
    "\n",
    "---"
   ]
  },
  {
   "cell_type": "markdown",
   "id": "7cd63c69-1a6a-4f33-a90e-f73a172b1685",
   "metadata": {},
   "source": [
    "#### 4.1 예제 이미지 확인\n",
    "---\n",
    "먼저 예제 이미지와 마스크 이미지를 확인합니다.\n",
    "\n",
    "---"
   ]
  },
  {
   "cell_type": "code",
   "execution_count": null,
   "id": "85c19342-3a7a-4c01-844c-0937828bba7c",
   "metadata": {
    "tags": []
   },
   "outputs": [],
   "source": [
    "from IPython.display import Image\n",
    "\n",
    "input_img_file_name = \"mlb.png\"\n",
    "\n",
    "# 원본 이미지 표시\n",
    "Image(filename=input_img_file_name, width=632, height=632)"
   ]
  },
  {
   "cell_type": "markdown",
   "id": "28a68f73-8fd0-4d2d-ad72-32e821b39a97",
   "metadata": {},
   "source": [
    "#### 마스크\n",
    "\n",
    "***\n",
    "마스크는 교체할 부분은 모두 흰색이고 상수인 부분은 모두 검은색으로 표시된 이미지입니다. \n",
    "\n",
    "***"
   ]
  },
  {
   "cell_type": "code",
   "execution_count": null,
   "id": "634803ed-2e48-4745-929b-e9824e904038",
   "metadata": {
    "tags": []
   },
   "outputs": [],
   "source": [
    "# 피사체를 구분하는 마스크 이미지\n",
    "\n",
    "input_img_mask_file_name = \"mlb_mask.png\"\n",
    "\n",
    "Image(filename=input_img_mask_file_name, width=632, height=632)"
   ]
  },
  {
   "cell_type": "markdown",
   "id": "ce9eba67-90ac-4dd6-96ff-7d8de644d1c5",
   "metadata": {},
   "source": [
    "다음으로 엔드포인트를 쿼리하고, 응답을 구문 분석하고, 생성된 이미지를 표시하기 위한 helper 함수를 작성합니다."
   ]
  },
  {
   "cell_type": "code",
   "execution_count": null,
   "id": "84fb30d0",
   "metadata": {
    "tags": []
   },
   "outputs": [],
   "source": [
    "import matplotlib.pyplot as plt\n",
    "import numpy as np\n",
    "\n",
    "\n",
    "def query(model_predictor, payload, content_type, accept):\n",
    "    \"\"\"Query the model predictor.\"\"\"\n",
    "\n",
    "    query_response = model_predictor.predict(\n",
    "        payload,\n",
    "        {\n",
    "            \"ContentType\": content_type,\n",
    "            \"Accept\": accept,\n",
    "        },\n",
    "    )\n",
    "    return query_response\n",
    "\n",
    "\n",
    "def parse_response(query_response):\n",
    "    \"\"\"Parse response and return the generated images.\"\"\"\n",
    "\n",
    "    response_dict = json.loads(query_response)\n",
    "    return response_dict[\"generated_images\"]\n",
    "\n",
    "\n",
    "def display_img_and_prompt(img, prmpt):\n",
    "    \"\"\"Display the generated image.\"\"\"\n",
    "    plt.figure(figsize=(12, 12))\n",
    "    plt.imshow(np.array(img))\n",
    "    plt.axis(\"off\")\n",
    "    plt.title(prmpt)\n",
    "    plt.show()"
   ]
  },
  {
   "cell_type": "markdown",
   "id": "aea0434b",
   "metadata": {},
   "source": [
    "#### 예시 1 - 피사체 변경하기\n",
    "\n",
    "---\n",
    "아래는 예제 이미지, 마스크, 프롬프트를 입력한 것입니다. 어떤 이미지, 마스크, 프롬프트를 입력해도 모델이 해당 이미지에 해당하는 색칠된 이미지를 생성합니다. \n",
    "\n",
    "---"
   ]
  },
  {
   "cell_type": "code",
   "execution_count": null,
   "id": "a5a12e3e-c269-432a-8e41-7e0903c975af",
   "metadata": {
    "pycharm": {
     "is_executing": true
    },
    "tags": []
   },
   "outputs": [],
   "source": [
    "import base64\n",
    "from PIL import Image\n",
    "from io import BytesIO\n",
    "\n",
    "\n",
    "# content_type = 'application/json;jpeg'인 경우, 엔드포인트는 페이로드가 원본 이미지와 마스크 이미지가 base64.b64 인코딩으로 인코딩된 바이트 단위의 json일 것으로 기대합니다.\n",
    "# 원본 이미지를 엔드포인트로 전송하려면, content_type = 'application/json', encoded_image를 np.array(PIL.Image.open(input_img_file_name.jpg)).tolist()로 설정하면 됩니다.\n",
    "content_type = \"application/json;jpeg\"\n",
    "\n",
    "\n",
    "with open(input_img_file_name, \"rb\") as f:\n",
    "    input_img_image_bytes = f.read()\n",
    "with open(input_img_mask_file_name, \"rb\") as f:\n",
    "    input_img_mask_image_bytes = f.read()\n",
    "\n",
    "encoded_input_image = base64.b64encode(bytearray(input_img_image_bytes)).decode()\n",
    "encoded_mask = base64.b64encode(bytearray(input_img_mask_image_bytes)).decode()\n",
    "\n",
    "\n",
    "payload = {\n",
    "    \"prompt\": \"1girl,masterpiece,casual,blouse\",\n",
    "    \"image\": encoded_input_image,\n",
    "    \"mask_image\": encoded_mask,\n",
    "    \"num_inference_steps\": 50,\n",
    "    \"guidance_scale\": 7.5,\n",
    "    \"seed\": 0,\n",
    "    \"negative_prompt\": \"poorly drawn hands\",\n",
    "}\n",
    "\n",
    "\n",
    "# accept = 'application/json;jpeg'의 경우, 엔드포인트는 base64.b64 인코딩으로 인코딩된 바이트 단위로 jpeg 이미지를 반환합니다.\n",
    "# RGB 값으로 설정된 원시 이미지를 받으려면 Accept = 'application/json'\n",
    "accept = \"application/json;jpeg\"\n",
    "\n",
    "# 원시/rgb 값으로 페이로드를 보내거나 받으면 입력 페이로드 및 응답 크기에 대한 기본 제한에 도달할 수 있다는 점에 유의하세요.\n",
    "\n",
    "query_response = query(model_predictor, json.dumps(payload).encode(\"utf-8\"), content_type, accept)\n",
    "generated_images = parse_response(query_response)\n",
    "\n",
    "\n",
    "# 위에서 언급한 accept = 'application/json;jpeg'의 경우 반환된 이미지는 base64.b64 인코딩으로 인코딩된 바이트 단위의 jpeg입니다.\n",
    "# 여기서는 이미지를 디코딩하고 이미지를 표시합니다.\n",
    "for generated_image in generated_images:\n",
    "    generated_image_decoded = BytesIO(base64.b64decode(generated_image.encode()))\n",
    "    generated_image_rgb = Image.open(generated_image_decoded).convert(\"RGB\")\n",
    "    # 생성된 이미지는 generated_image_rgb.save('inpainted_image.jpg')를 호출하여 저장할 수 있습니다.\n",
    "    display_img_and_prompt(generated_image_rgb, \"Inpainted image generated by the model\")"
   ]
  },
  {
   "cell_type": "markdown",
   "id": "948c4808-0fad-43dc-95c3-d17e24ac557e",
   "metadata": {},
   "source": [
    "#### 예시2 - 배경 변경하기\n",
    "\n",
    "---\n",
    "아래는 예제 이미지, 마스크, 프롬프트를 입력한 것입니다. 어떤 이미지, 마스크, 프롬프트를 입력해도 모델이 해당 이미지에 해당하는 색칠된 이미지를 생성합니다. \n",
    "\n",
    "---"
   ]
  },
  {
   "cell_type": "code",
   "execution_count": null,
   "id": "08e54ddf-224d-418b-98a0-4a80f5229e2c",
   "metadata": {},
   "outputs": [],
   "source": [
    "from IPython.display import Image\n",
    "\n",
    "# 배경을 구분하는 마스크 이미지\n",
    "\n",
    "input_img_mask_file_name = \"mlb_mask_reverse.png\"\n",
    "\n",
    "Image(filename=input_img_mask_file_name, width=632, height=632)"
   ]
  },
  {
   "cell_type": "code",
   "execution_count": null,
   "id": "8d4ed4cb-fd49-40ee-bd68-e63596cb8294",
   "metadata": {},
   "outputs": [],
   "source": [
    "import base64\n",
    "from PIL import Image\n",
    "from io import BytesIO\n",
    "\n",
    "\n",
    "# content_type = 'application/json;jpeg'인 경우, 엔드포인트는 페이로드가 원본 이미지와 마스크 이미지가 base64.b64 인코딩으로 인코딩된 바이트 단위의 json일 것으로 기대합니다.\n",
    "# 원본 이미지를 엔드포인트로 전송하려면, content_type = 'application/json', encoded_image를 np.array(PIL.Image.open(input_img_file_name.jpg)).tolist()로 설정하면 됩니다.\n",
    "content_type = \"application/json;jpeg\"\n",
    "\n",
    "\n",
    "with open(input_img_file_name, \"rb\") as f:\n",
    "    input_img_image_bytes = f.read()\n",
    "with open(input_img_mask_file_name, \"rb\") as f:\n",
    "    input_img_mask_image_bytes = f.read()\n",
    "\n",
    "encoded_input_image = base64.b64encode(bytearray(input_img_image_bytes)).decode()\n",
    "encoded_mask = base64.b64encode(bytearray(input_img_mask_image_bytes)).decode()\n",
    "\n",
    "\n",
    "payload = {\n",
    "    \"prompt\": \"in front of Amazon HQ building.\",\n",
    "    \"image\": encoded_input_image,\n",
    "    \"mask_image\": encoded_mask,\n",
    "    \"num_inference_steps\": 50,\n",
    "    \"guidance_scale\": 7.5,\n",
    "    \"seed\": 0,\n",
    "    \"negative_prompt\": \"poorly drawn hands\",\n",
    "}\n",
    "\n",
    "\n",
    "# accept = 'application/json;jpeg'의 경우, 엔드포인트는 base64.b64 인코딩으로 인코딩된 바이트 단위로 jpeg 이미지를 반환합니다.\n",
    "# RGB 값으로 설정된 원시 이미지를 받으려면 Accept = 'application/json'\n",
    "accept = \"application/json;jpeg\"\n",
    "\n",
    "# 원시/rgb 값으로 페이로드를 보내거나 받으면 입력 페이로드 및 응답 크기에 대한 기본 제한에 도달할 수 있다는 점에 유의하세요.\n",
    "\n",
    "query_response = query(model_predictor, json.dumps(payload).encode(\"utf-8\"), content_type, accept)\n",
    "generated_images = parse_response(query_response)\n",
    "\n",
    "\n",
    "# 위에서 언급한 accept = 'application/json;jpeg'의 경우 반환된 이미지는 base64.b64 인코딩으로 인코딩된 바이트 단위의 jpeg입니다.\n",
    "# 여기서는 이미지를 디코딩하고 이미지를 표시합니다.\n",
    "for generated_image in generated_images:\n",
    "    generated_image_decoded = BytesIO(base64.b64decode(generated_image.encode()))\n",
    "    generated_image_rgb = Image.open(generated_image_decoded).convert(\"RGB\")\n",
    "    # 생성된 이미지는 generated_image_rgb.save('inpainted_image.jpg')를 호출하여 저장할 수 있습니다.\n",
    "    display_img_and_prompt(generated_image_rgb, \"Inpainted image generated by the model\")"
   ]
  },
  {
   "cell_type": "markdown",
   "id": "4986cdb5-e1b2-4804-af47-e9866ac4115b",
   "metadata": {
    "pycharm": {
     "is_executing": true
    }
   },
   "source": [
    "#### Supported Parameters\n",
    "\n",
    "***\n",
    "이 모델은 추론을 수행하는 동안 많은 매개 변수를 지원합니다. 여기에는 다음이 포함됩니다:\n",
    "\n",
    "* **prompt**: 프롬프트에 이미지 생성을 안내합니다. 반드시 지정해야 하며 문자열 또는 문자열 목록일 수 있습니다.\n",
    "* **num_inference_steps**: 이미지 생성 중 노이즈 제거 단계 수입니다. 단계가 많을수록 이미지 품질이 높아집니다. 지정하는 경우 양수여야 합니다.\n",
    "* **guidance_scale**: 안내 척도가 높을수록 이미지 품질은 떨어지지만 프롬프트와 밀접하게 관련된 이미지가 생성됩니다. 지정하는 경우 반드시 실수여야 합니다. guidance_scale<=1은 무시됩니다.\n",
    "* **negative_prompt**: 이 프롬프트에 대한 가이드 이미지 생성을 지정합니다. 지정하는 경우 문자열 또는 문자열 목록이어야 하며 guidance_scale과 함께 사용해야 합니다. guidance_scale이 비활성화되면 이 옵션도 비활성화됩니다. 또한 프롬프트가 문자열 목록인 경우 negative_prompt도 문자열 목록이어야 합니다.\n",
    "* **num_images_per_prompt**: 프롬프트당 반환되는 이미지 수입니다. 지정하는 경우 양수여야 합니다.\n",
    "* **seed**: 재현성을 위해 무작위 상태를 수정합니다. 지정하는 경우 정수여야 합니다.\n",
    "* **batch_size**: 단일 포워드 패스에서 생성할 이미지 수입니다. 더 작은 인스턴스를 사용하거나 많은 이미지를 생성하는 경우 batch_size를 작은 숫자(1-2)로 줄이세요. Number of images = number of prompts*num_images_per_prompt.\n",
    "\n",
    "***"
   ]
  },
  {
   "cell_type": "markdown",
   "id": "870d1173",
   "metadata": {},
   "source": [
    "### 5. Clean up the endpoint"
   ]
  },
  {
   "cell_type": "code",
   "execution_count": null,
   "id": "3b08d563-afd9-41bb-a629-d427fda70c39",
   "metadata": {},
   "outputs": [],
   "source": [
    "# Delete the SageMaker endpoint\n",
    "model_predictor.delete_model()\n",
    "model_predictor.delete_endpoint()"
   ]
  },
  {
   "cell_type": "markdown",
   "id": "260646db-10b9-4220-a6ad-1eb9b6f49d19",
   "metadata": {},
   "source": [
    "### Conclusion\n",
    "\n",
    "***\n",
    "이 튜토리얼에서는 JumpStart를 사용하여 사전 학습된 Stable Diffusion 인페인팅 모델을 SageMaker에 배포하는 방법을 배웠습니다. Stable Diffusion 모델은 이미지의 일부를 대체하고 매우 사실적인 이미지를 생성하는 데 매우 효과적이라는 것을 확인했습니다. Jumpstart는 인페인팅을 위해 Stable Diffusion 1과 Stable Diffusion 2 및 해당 FP16 개정판을 모두 제공합니다. \n",
    "\n",
    "추론 중에 적절한 매개변수를 선택하여 이미지 생성 프로세스를 조정할 수 있습니다. 이러한 매개변수를 설정하는 방법에 대한 지침은 지원되는 추론 매개변수 섹션에서 확인할 수 있습니다. \n",
    "\n",
    "***\n",
    "\n"
   ]
  }
 ],
 "metadata": {
  "availableInstances": [
   {
    "_defaultOrder": 0,
    "_isFastLaunch": true,
    "category": "General purpose",
    "gpuNum": 0,
    "hideHardwareSpecs": false,
    "memoryGiB": 4,
    "name": "ml.t3.medium",
    "vcpuNum": 2
   },
   {
    "_defaultOrder": 1,
    "_isFastLaunch": false,
    "category": "General purpose",
    "gpuNum": 0,
    "hideHardwareSpecs": false,
    "memoryGiB": 8,
    "name": "ml.t3.large",
    "vcpuNum": 2
   },
   {
    "_defaultOrder": 2,
    "_isFastLaunch": false,
    "category": "General purpose",
    "gpuNum": 0,
    "hideHardwareSpecs": false,
    "memoryGiB": 16,
    "name": "ml.t3.xlarge",
    "vcpuNum": 4
   },
   {
    "_defaultOrder": 3,
    "_isFastLaunch": false,
    "category": "General purpose",
    "gpuNum": 0,
    "hideHardwareSpecs": false,
    "memoryGiB": 32,
    "name": "ml.t3.2xlarge",
    "vcpuNum": 8
   },
   {
    "_defaultOrder": 4,
    "_isFastLaunch": true,
    "category": "General purpose",
    "gpuNum": 0,
    "hideHardwareSpecs": false,
    "memoryGiB": 8,
    "name": "ml.m5.large",
    "vcpuNum": 2
   },
   {
    "_defaultOrder": 5,
    "_isFastLaunch": false,
    "category": "General purpose",
    "gpuNum": 0,
    "hideHardwareSpecs": false,
    "memoryGiB": 16,
    "name": "ml.m5.xlarge",
    "vcpuNum": 4
   },
   {
    "_defaultOrder": 6,
    "_isFastLaunch": false,
    "category": "General purpose",
    "gpuNum": 0,
    "hideHardwareSpecs": false,
    "memoryGiB": 32,
    "name": "ml.m5.2xlarge",
    "vcpuNum": 8
   },
   {
    "_defaultOrder": 7,
    "_isFastLaunch": false,
    "category": "General purpose",
    "gpuNum": 0,
    "hideHardwareSpecs": false,
    "memoryGiB": 64,
    "name": "ml.m5.4xlarge",
    "vcpuNum": 16
   },
   {
    "_defaultOrder": 8,
    "_isFastLaunch": false,
    "category": "General purpose",
    "gpuNum": 0,
    "hideHardwareSpecs": false,
    "memoryGiB": 128,
    "name": "ml.m5.8xlarge",
    "vcpuNum": 32
   },
   {
    "_defaultOrder": 9,
    "_isFastLaunch": false,
    "category": "General purpose",
    "gpuNum": 0,
    "hideHardwareSpecs": false,
    "memoryGiB": 192,
    "name": "ml.m5.12xlarge",
    "vcpuNum": 48
   },
   {
    "_defaultOrder": 10,
    "_isFastLaunch": false,
    "category": "General purpose",
    "gpuNum": 0,
    "hideHardwareSpecs": false,
    "memoryGiB": 256,
    "name": "ml.m5.16xlarge",
    "vcpuNum": 64
   },
   {
    "_defaultOrder": 11,
    "_isFastLaunch": false,
    "category": "General purpose",
    "gpuNum": 0,
    "hideHardwareSpecs": false,
    "memoryGiB": 384,
    "name": "ml.m5.24xlarge",
    "vcpuNum": 96
   },
   {
    "_defaultOrder": 12,
    "_isFastLaunch": false,
    "category": "General purpose",
    "gpuNum": 0,
    "hideHardwareSpecs": false,
    "memoryGiB": 8,
    "name": "ml.m5d.large",
    "vcpuNum": 2
   },
   {
    "_defaultOrder": 13,
    "_isFastLaunch": false,
    "category": "General purpose",
    "gpuNum": 0,
    "hideHardwareSpecs": false,
    "memoryGiB": 16,
    "name": "ml.m5d.xlarge",
    "vcpuNum": 4
   },
   {
    "_defaultOrder": 14,
    "_isFastLaunch": false,
    "category": "General purpose",
    "gpuNum": 0,
    "hideHardwareSpecs": false,
    "memoryGiB": 32,
    "name": "ml.m5d.2xlarge",
    "vcpuNum": 8
   },
   {
    "_defaultOrder": 15,
    "_isFastLaunch": false,
    "category": "General purpose",
    "gpuNum": 0,
    "hideHardwareSpecs": false,
    "memoryGiB": 64,
    "name": "ml.m5d.4xlarge",
    "vcpuNum": 16
   },
   {
    "_defaultOrder": 16,
    "_isFastLaunch": false,
    "category": "General purpose",
    "gpuNum": 0,
    "hideHardwareSpecs": false,
    "memoryGiB": 128,
    "name": "ml.m5d.8xlarge",
    "vcpuNum": 32
   },
   {
    "_defaultOrder": 17,
    "_isFastLaunch": false,
    "category": "General purpose",
    "gpuNum": 0,
    "hideHardwareSpecs": false,
    "memoryGiB": 192,
    "name": "ml.m5d.12xlarge",
    "vcpuNum": 48
   },
   {
    "_defaultOrder": 18,
    "_isFastLaunch": false,
    "category": "General purpose",
    "gpuNum": 0,
    "hideHardwareSpecs": false,
    "memoryGiB": 256,
    "name": "ml.m5d.16xlarge",
    "vcpuNum": 64
   },
   {
    "_defaultOrder": 19,
    "_isFastLaunch": false,
    "category": "General purpose",
    "gpuNum": 0,
    "hideHardwareSpecs": false,
    "memoryGiB": 384,
    "name": "ml.m5d.24xlarge",
    "vcpuNum": 96
   },
   {
    "_defaultOrder": 20,
    "_isFastLaunch": false,
    "category": "General purpose",
    "gpuNum": 0,
    "hideHardwareSpecs": true,
    "memoryGiB": 0,
    "name": "ml.geospatial.interactive",
    "supportedImageNames": [
     "sagemaker-geospatial-v1-0"
    ],
    "vcpuNum": 0
   },
   {
    "_defaultOrder": 21,
    "_isFastLaunch": true,
    "category": "Compute optimized",
    "gpuNum": 0,
    "hideHardwareSpecs": false,
    "memoryGiB": 4,
    "name": "ml.c5.large",
    "vcpuNum": 2
   },
   {
    "_defaultOrder": 22,
    "_isFastLaunch": false,
    "category": "Compute optimized",
    "gpuNum": 0,
    "hideHardwareSpecs": false,
    "memoryGiB": 8,
    "name": "ml.c5.xlarge",
    "vcpuNum": 4
   },
   {
    "_defaultOrder": 23,
    "_isFastLaunch": false,
    "category": "Compute optimized",
    "gpuNum": 0,
    "hideHardwareSpecs": false,
    "memoryGiB": 16,
    "name": "ml.c5.2xlarge",
    "vcpuNum": 8
   },
   {
    "_defaultOrder": 24,
    "_isFastLaunch": false,
    "category": "Compute optimized",
    "gpuNum": 0,
    "hideHardwareSpecs": false,
    "memoryGiB": 32,
    "name": "ml.c5.4xlarge",
    "vcpuNum": 16
   },
   {
    "_defaultOrder": 25,
    "_isFastLaunch": false,
    "category": "Compute optimized",
    "gpuNum": 0,
    "hideHardwareSpecs": false,
    "memoryGiB": 72,
    "name": "ml.c5.9xlarge",
    "vcpuNum": 36
   },
   {
    "_defaultOrder": 26,
    "_isFastLaunch": false,
    "category": "Compute optimized",
    "gpuNum": 0,
    "hideHardwareSpecs": false,
    "memoryGiB": 96,
    "name": "ml.c5.12xlarge",
    "vcpuNum": 48
   },
   {
    "_defaultOrder": 27,
    "_isFastLaunch": false,
    "category": "Compute optimized",
    "gpuNum": 0,
    "hideHardwareSpecs": false,
    "memoryGiB": 144,
    "name": "ml.c5.18xlarge",
    "vcpuNum": 72
   },
   {
    "_defaultOrder": 28,
    "_isFastLaunch": false,
    "category": "Compute optimized",
    "gpuNum": 0,
    "hideHardwareSpecs": false,
    "memoryGiB": 192,
    "name": "ml.c5.24xlarge",
    "vcpuNum": 96
   },
   {
    "_defaultOrder": 29,
    "_isFastLaunch": true,
    "category": "Accelerated computing",
    "gpuNum": 1,
    "hideHardwareSpecs": false,
    "memoryGiB": 16,
    "name": "ml.g4dn.xlarge",
    "vcpuNum": 4
   },
   {
    "_defaultOrder": 30,
    "_isFastLaunch": false,
    "category": "Accelerated computing",
    "gpuNum": 1,
    "hideHardwareSpecs": false,
    "memoryGiB": 32,
    "name": "ml.g4dn.2xlarge",
    "vcpuNum": 8
   },
   {
    "_defaultOrder": 31,
    "_isFastLaunch": false,
    "category": "Accelerated computing",
    "gpuNum": 1,
    "hideHardwareSpecs": false,
    "memoryGiB": 64,
    "name": "ml.g4dn.4xlarge",
    "vcpuNum": 16
   },
   {
    "_defaultOrder": 32,
    "_isFastLaunch": false,
    "category": "Accelerated computing",
    "gpuNum": 1,
    "hideHardwareSpecs": false,
    "memoryGiB": 128,
    "name": "ml.g4dn.8xlarge",
    "vcpuNum": 32
   },
   {
    "_defaultOrder": 33,
    "_isFastLaunch": false,
    "category": "Accelerated computing",
    "gpuNum": 4,
    "hideHardwareSpecs": false,
    "memoryGiB": 192,
    "name": "ml.g4dn.12xlarge",
    "vcpuNum": 48
   },
   {
    "_defaultOrder": 34,
    "_isFastLaunch": false,
    "category": "Accelerated computing",
    "gpuNum": 1,
    "hideHardwareSpecs": false,
    "memoryGiB": 256,
    "name": "ml.g4dn.16xlarge",
    "vcpuNum": 64
   },
   {
    "_defaultOrder": 35,
    "_isFastLaunch": false,
    "category": "Accelerated computing",
    "gpuNum": 1,
    "hideHardwareSpecs": false,
    "memoryGiB": 61,
    "name": "ml.p3.2xlarge",
    "vcpuNum": 8
   },
   {
    "_defaultOrder": 36,
    "_isFastLaunch": false,
    "category": "Accelerated computing",
    "gpuNum": 4,
    "hideHardwareSpecs": false,
    "memoryGiB": 244,
    "name": "ml.p3.8xlarge",
    "vcpuNum": 32
   },
   {
    "_defaultOrder": 37,
    "_isFastLaunch": false,
    "category": "Accelerated computing",
    "gpuNum": 8,
    "hideHardwareSpecs": false,
    "memoryGiB": 488,
    "name": "ml.p3.16xlarge",
    "vcpuNum": 64
   },
   {
    "_defaultOrder": 38,
    "_isFastLaunch": false,
    "category": "Accelerated computing",
    "gpuNum": 8,
    "hideHardwareSpecs": false,
    "memoryGiB": 768,
    "name": "ml.p3dn.24xlarge",
    "vcpuNum": 96
   },
   {
    "_defaultOrder": 39,
    "_isFastLaunch": false,
    "category": "Memory Optimized",
    "gpuNum": 0,
    "hideHardwareSpecs": false,
    "memoryGiB": 16,
    "name": "ml.r5.large",
    "vcpuNum": 2
   },
   {
    "_defaultOrder": 40,
    "_isFastLaunch": false,
    "category": "Memory Optimized",
    "gpuNum": 0,
    "hideHardwareSpecs": false,
    "memoryGiB": 32,
    "name": "ml.r5.xlarge",
    "vcpuNum": 4
   },
   {
    "_defaultOrder": 41,
    "_isFastLaunch": false,
    "category": "Memory Optimized",
    "gpuNum": 0,
    "hideHardwareSpecs": false,
    "memoryGiB": 64,
    "name": "ml.r5.2xlarge",
    "vcpuNum": 8
   },
   {
    "_defaultOrder": 42,
    "_isFastLaunch": false,
    "category": "Memory Optimized",
    "gpuNum": 0,
    "hideHardwareSpecs": false,
    "memoryGiB": 128,
    "name": "ml.r5.4xlarge",
    "vcpuNum": 16
   },
   {
    "_defaultOrder": 43,
    "_isFastLaunch": false,
    "category": "Memory Optimized",
    "gpuNum": 0,
    "hideHardwareSpecs": false,
    "memoryGiB": 256,
    "name": "ml.r5.8xlarge",
    "vcpuNum": 32
   },
   {
    "_defaultOrder": 44,
    "_isFastLaunch": false,
    "category": "Memory Optimized",
    "gpuNum": 0,
    "hideHardwareSpecs": false,
    "memoryGiB": 384,
    "name": "ml.r5.12xlarge",
    "vcpuNum": 48
   },
   {
    "_defaultOrder": 45,
    "_isFastLaunch": false,
    "category": "Memory Optimized",
    "gpuNum": 0,
    "hideHardwareSpecs": false,
    "memoryGiB": 512,
    "name": "ml.r5.16xlarge",
    "vcpuNum": 64
   },
   {
    "_defaultOrder": 46,
    "_isFastLaunch": false,
    "category": "Memory Optimized",
    "gpuNum": 0,
    "hideHardwareSpecs": false,
    "memoryGiB": 768,
    "name": "ml.r5.24xlarge",
    "vcpuNum": 96
   },
   {
    "_defaultOrder": 47,
    "_isFastLaunch": false,
    "category": "Accelerated computing",
    "gpuNum": 1,
    "hideHardwareSpecs": false,
    "memoryGiB": 16,
    "name": "ml.g5.xlarge",
    "vcpuNum": 4
   },
   {
    "_defaultOrder": 48,
    "_isFastLaunch": false,
    "category": "Accelerated computing",
    "gpuNum": 1,
    "hideHardwareSpecs": false,
    "memoryGiB": 32,
    "name": "ml.g5.2xlarge",
    "vcpuNum": 8
   },
   {
    "_defaultOrder": 49,
    "_isFastLaunch": false,
    "category": "Accelerated computing",
    "gpuNum": 1,
    "hideHardwareSpecs": false,
    "memoryGiB": 64,
    "name": "ml.g5.4xlarge",
    "vcpuNum": 16
   },
   {
    "_defaultOrder": 50,
    "_isFastLaunch": false,
    "category": "Accelerated computing",
    "gpuNum": 1,
    "hideHardwareSpecs": false,
    "memoryGiB": 128,
    "name": "ml.g5.8xlarge",
    "vcpuNum": 32
   },
   {
    "_defaultOrder": 51,
    "_isFastLaunch": false,
    "category": "Accelerated computing",
    "gpuNum": 1,
    "hideHardwareSpecs": false,
    "memoryGiB": 256,
    "name": "ml.g5.16xlarge",
    "vcpuNum": 64
   },
   {
    "_defaultOrder": 52,
    "_isFastLaunch": false,
    "category": "Accelerated computing",
    "gpuNum": 4,
    "hideHardwareSpecs": false,
    "memoryGiB": 192,
    "name": "ml.g5.12xlarge",
    "vcpuNum": 48
   },
   {
    "_defaultOrder": 53,
    "_isFastLaunch": false,
    "category": "Accelerated computing",
    "gpuNum": 4,
    "hideHardwareSpecs": false,
    "memoryGiB": 384,
    "name": "ml.g5.24xlarge",
    "vcpuNum": 96
   },
   {
    "_defaultOrder": 54,
    "_isFastLaunch": false,
    "category": "Accelerated computing",
    "gpuNum": 8,
    "hideHardwareSpecs": false,
    "memoryGiB": 768,
    "name": "ml.g5.48xlarge",
    "vcpuNum": 192
   },
   {
    "_defaultOrder": 55,
    "_isFastLaunch": false,
    "category": "Accelerated computing",
    "gpuNum": 8,
    "hideHardwareSpecs": false,
    "memoryGiB": 1152,
    "name": "ml.p4d.24xlarge",
    "vcpuNum": 96
   },
   {
    "_defaultOrder": 56,
    "_isFastLaunch": false,
    "category": "Accelerated computing",
    "gpuNum": 8,
    "hideHardwareSpecs": false,
    "memoryGiB": 1152,
    "name": "ml.p4de.24xlarge",
    "vcpuNum": 96
   }
  ],
  "instance_type": "ml.t3.medium",
  "kernelspec": {
   "display_name": "Python 3 (Data Science 2.0)",
   "language": "python",
   "name": "python3__SAGEMAKER_INTERNAL__arn:aws:sagemaker:us-east-1:081325390199:image/sagemaker-data-science-38"
  },
  "language_info": {
   "codemirror_mode": {
    "name": "ipython",
    "version": 3
   },
   "file_extension": ".py",
   "mimetype": "text/x-python",
   "name": "python",
   "nbconvert_exporter": "python",
   "pygments_lexer": "ipython3",
   "version": "3.8.13"
  },
  "pycharm": {
   "stem_cell": {
    "cell_type": "raw",
    "metadata": {
     "collapsed": false
    },
    "source": []
   }
  }
 },
 "nbformat": 4,
 "nbformat_minor": 5
}
